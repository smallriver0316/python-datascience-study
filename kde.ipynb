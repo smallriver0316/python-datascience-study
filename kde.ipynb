{
  "nbformat": 4,
  "nbformat_minor": 0,
  "metadata": {
    "colab": {
      "name": "kde.ipynb",
      "provenance": [],
      "collapsed_sections": [],
      "authorship_tag": "ABX9TyNL9yFgsCSjpcLSfa9QCw8H",
      "include_colab_link": true
    },
    "kernelspec": {
      "name": "python3",
      "display_name": "Python 3"
    },
    "language_info": {
      "name": "python"
    }
  },
  "cells": [
    {
      "cell_type": "markdown",
      "metadata": {
        "id": "view-in-github",
        "colab_type": "text"
      },
      "source": [
        "<a href=\"https://colab.research.google.com/github/smallriver0316/python-datascience-study/blob/development/kde.ipynb\" target=\"_parent\"><img src=\"https://colab.research.google.com/assets/colab-badge.svg\" alt=\"Open In Colab\"/></a>"
      ]
    },
    {
      "cell_type": "code",
      "metadata": {
        "id": "j_xfU4mVA04i"
      },
      "source": [
        "import numpy as np\n",
        "import matplotlib.pyplot as plt\n",
        "import seaborn as sns\n",
        "sns.set()"
      ],
      "execution_count": 1,
      "outputs": []
    },
    {
      "cell_type": "code",
      "metadata": {
        "id": "DAAu-qnfBFZI"
      },
      "source": [
        "def make_data(N, f=0.3, rseed=1):\n",
        "  rand = np.random.RandomState(rseed)\n",
        "  x = rand.randn(N)\n",
        "  x[int(f * N):] += 5\n",
        "  return x"
      ],
      "execution_count": null,
      "outputs": []
    },
    {
      "cell_type": "code",
      "metadata": {
        "colab": {
          "base_uri": "https://localhost:8080/",
          "height": 268
        },
        "id": "S7JEH-zeBXsz",
        "outputId": "02f83c92-66e4-416f-e554-9f9442ec155c"
      },
      "source": [
        "x = make_data(1000)\n",
        "hist = plt.hist(x, bins=30, density=True)"
      ],
      "execution_count": null,
      "outputs": [
        {
          "output_type": "display_data",
          "data": {
            "image/png": "[encoded data removed]",
            "text/plain": [
              "<Figure size 432x288 with 1 Axes>"
            ]
          },
          "metadata": {
            "needs_background": "light"
          }
        }
      ]
    },
    {
      "cell_type": "code",
      "metadata": {
        "colab": {
          "base_uri": "https://localhost:8080/"
        },
        "id": "v-uSfY2lCZz_",
        "outputId": "921a2f35-9c8c-43b2-91f3-361043552d24"
      },
      "source": [
        "density, bins, patches = hist\n",
        "widths = bins[1:] - bins[:-1]\n",
        "(density * widths).sum()"
      ],
      "execution_count": null,
      "outputs": [
        {
          "output_type": "execute_result",
          "data": {
            "text/plain": [
              "1.0"
            ]
          },
          "metadata": {},
          "execution_count": 7
        }
      ]
    },
    {
      "cell_type": "markdown",
      "metadata": {
        "id": "1KyxS6lDCoRc"
      },
      "source": [
        "総面積が1になるように正規化されている"
      ]
    },
    {
      "cell_type": "code",
      "metadata": {
        "id": "zmauUMesCsG4"
      },
      "source": [
        "# binの選択を誤ると全く異なるデータに見えてしまう\n",
        "x = make_data(20)\n",
        "bins = np.linspace(-5, 10, 10)"
      ],
      "execution_count": null,
      "outputs": []
    },
    {
      "cell_type": "code",
      "metadata": {
        "colab": {
          "base_uri": "https://localhost:8080/",
          "height": 272
        },
        "id": "w6NluNynDLMv",
        "outputId": "e5b4e15b-6ffc-4e30-fa61-21a13f89e8a5"
      },
      "source": [
        "fig, ax = plt.subplots(1,\n",
        "                       2,\n",
        "                       figsize=(12, 4),\n",
        "                       sharex=True,\n",
        "                       sharey=True,\n",
        "                       subplot_kw={'xlim': (-4, 9), 'ylim': (-0.02, 0.3)})\n",
        "fig.subplots_adjust(wspace=0.05)\n",
        "for i, offset in enumerate([0.0, 0.6]):\n",
        "  ax[i].hist(x, bins=bins + offset, density=True)\n",
        "  # ヒストグラム下に分布を描画\n",
        "  ax[i].plot(x, np.full_like(x, -0.01), '|k', markeredgewidth=1)"
      ],
      "execution_count": null,
      "outputs": [
        {
          "output_type": "display_data",
          "data": {
            "image/png": "[encoded data removed]",
            "text/plain": [
              "<Figure size 864x288 with 2 Axes>"
            ]
          },
          "metadata": {
            "needs_background": "light"
          }
        }
      ]
    },
    {
      "cell_type": "code",
      "metadata": {
        "colab": {
          "base_uri": "https://localhost:8080/",
          "height": 272
        },
        "id": "vYHJc3eZEKBV",
        "outputId": "ab53b803-f0a0-44f4-e3ae-9c426682ebe6"
      },
      "source": [
        "# ヒストグラムをブロックの積み重ねと考える\n",
        "fig, ax = plt.subplots()\n",
        "bins = np.arange(-3, 8)\n",
        "ax.plot(x, np.full_like(x, -0.1), '|k', markeredgewidth=1)\n",
        "for count, edge in zip(*np.histogram(x, bins)):\n",
        "  for i in range(count):\n",
        "    ax.add_patch(plt.Rectangle((edge, i), 1, 1, alpha=0.5, edgecolor='black'))\n",
        "  ax.set_xlim(-4, 8)\n",
        "  ax.set_ylim(-0.2, 8)"
      ],
      "execution_count": null,
      "outputs": [
        {
          "output_type": "display_data",
          "data": {
            "image/png": "[encoded data removed]",
            "text/plain": [
              "<Figure size 432x288 with 1 Axes>"
            ]
          },
          "metadata": {
            "needs_background": "light"
          }
        }
      ]
    },
    {
      "cell_type": "code",
      "metadata": {
        "colab": {
          "base_uri": "https://localhost:8080/",
          "height": 290
        },
        "id": "alfSyHqLFfz-",
        "outputId": "571c399c-fa4b-490b-aaeb-393537450b07"
      },
      "source": [
        "# 分布に合わせてポイントを重ね合わせる\n",
        "x_d = np.linspace(-4, 8, 2000)\n",
        "density = sum((abs(xi - x_d) < 0.5) for xi in x)\n",
        "\n",
        "# ヒストグラムを描画\n",
        "plt.fill_between(x_d, density, alpha=0.5)\n",
        "# ヒストグラムの下に分布位置を描画\n",
        "plt.plot(x, np.full_like(x, -0.1), '|k', markeredgewidth=1)\n",
        "plt.axis([-4, 8, -0.2, 8])"
      ],
      "execution_count": null,
      "outputs": [
        {
          "output_type": "execute_result",
          "data": {
            "text/plain": [
              "(-4.0, 8.0, -0.2, 8.0)"
            ]
          },
          "metadata": {},
          "execution_count": 12
        },
        {
          "output_type": "display_data",
          "data": {
            "image/png": "[encoded data removed]",
            "text/plain": [
              "<Figure size 432x288 with 1 Axes>"
            ]
          },
          "metadata": {
            "needs_background": "light"
          }
        }
      ]
    },
    {
      "cell_type": "code",
      "metadata": {
        "colab": {
          "base_uri": "https://localhost:8080/",
          "height": 290
        },
        "id": "KtvU8H0EGyPq",
        "outputId": "0f41e7c2-c7ef-4721-9cf9-1c43c5bf6fb1"
      },
      "source": [
        "# 標準正規曲線を使って滑らかにする\n",
        "from scipy.stats import norm\n",
        "\n",
        "x_d = np.linspace(-4, 8, 1000)\n",
        "density = sum(norm(xi).pdf(x_d) for xi in x)\n",
        "\n",
        "plt.fill_between(x_d, density, alpha=0.5)\n",
        "plt.plot(x, np.full_like(x, -0.1), '|k', markeredgewidth=1)\n",
        "plt.axis([-4, 8, -0.2, 5])"
      ],
      "execution_count": null,
      "outputs": [
        {
          "output_type": "execute_result",
          "data": {
            "text/plain": [
              "(-4.0, 8.0, -0.2, 5.0)"
            ]
          },
          "metadata": {},
          "execution_count": 18
        },
        {
          "output_type": "display_data",
          "data": {
            "image/png": "[encoded data removed]",
            "text/plain": [
              "<Figure size 432x288 with 1 Axes>"
            ]
          },
          "metadata": {
            "needs_background": "light"
          }
        }
      ]
    },
    {
      "cell_type": "code",
      "metadata": {
        "colab": {
          "base_uri": "https://localhost:8080/",
          "height": 286
        },
        "id": "Ri__K1gHJcuR",
        "outputId": "4c0437fa-15b0-4614-9dd5-bd9f971c4701"
      },
      "source": [
        "# カーネル密度推定\n",
        "from sklearn.neighbors import KernelDensity\n",
        "\n",
        "kde = KernelDensity(bandwidth=1.0, kernel='gaussian')\n",
        "kde.fit(x[:, None])\n",
        "\n",
        "# score_samples()は確率密度の対数を返す\n",
        "logprob = kde.score_samples(x_d[:, None])\n",
        "\n",
        "plt.fill_between(x_d, np.exp(logprob), alpha=0.5)\n",
        "plt.plot(x, np.full_like(x, -0.01), '|k', markeredgewidth=1)\n",
        "plt.ylim(-0.02, 0.22)"
      ],
      "execution_count": null,
      "outputs": [
        {
          "output_type": "execute_result",
          "data": {
            "text/plain": [
              "(-0.02, 0.22)"
            ]
          },
          "metadata": {},
          "execution_count": 19
        },
        {
          "output_type": "display_data",
          "data": {
            "image/png": "[encoded data removed]",
            "text/plain": [
              "<Figure size 432x288 with 1 Axes>"
            ]
          },
          "metadata": {
            "needs_background": "light"
          }
        }
      ]
    },
    {
      "cell_type": "code",
      "metadata": {
        "colab": {
          "base_uri": "https://localhost:8080/"
        },
        "id": "kxgEaogfLAh_",
        "outputId": "c6c54bcf-4e6b-4604-fc29-ddcff8ee6d6e"
      },
      "source": [
        "# Grid Search\n",
        "# Cross Validation\n",
        "from sklearn.model_selection import GridSearchCV\n",
        "from sklearn.model_selection import LeaveOneOut\n",
        "\n",
        "# 最適なbandwidthを探索する\n",
        "bandwidths = 10 ** np.linspace(-1, 1, 100)\n",
        "grid = GridSearchCV(KernelDensity(kernel='gaussian'), {'bandwidth': bandwidths}, cv=LeaveOneOut())\n",
        "grid.fit(x[:, None])"
      ],
      "execution_count": null,
      "outputs": [
        {
          "output_type": "execute_result",
          "data": {
            "text/plain": [
              "GridSearchCV(cv=LeaveOneOut(), error_score=nan,\n",
              "             estimator=KernelDensity(algorithm='auto', atol=0, bandwidth=1.0,\n",
              "                                     breadth_first=True, kernel='gaussian',\n",
              "                                     leaf_size=40, metric='euclidean',\n",
              "                                     metric_params=None, rtol=0),\n",
              "             iid='deprecated', n_jobs=None,\n",
              "             param_grid={'bandwidth': array([ 0.1       ,  0.10476158,  0.10974988,  0.1149757 ,  0.12045035,\n",
              "        0.12618569,  0.13219411,  0.13848864,  0.1450...\n",
              "        3.27454916,  3.43046929,  3.59381366,  3.76493581,  3.94420606,\n",
              "        4.1320124 ,  4.32876128,  4.53487851,  4.75081016,  4.97702356,\n",
              "        5.21400829,  5.46227722,  5.72236766,  5.9948425 ,  6.28029144,\n",
              "        6.57933225,  6.8926121 ,  7.22080902,  7.56463328,  7.92482898,\n",
              "        8.30217568,  8.69749003,  9.11162756,  9.54548457, 10.        ])},\n",
              "             pre_dispatch='2*n_jobs', refit=True, return_train_score=False,\n",
              "             scoring=None, verbose=0)"
            ]
          },
          "metadata": {},
          "execution_count": 21
        }
      ]
    },
    {
      "cell_type": "code",
      "metadata": {
        "colab": {
          "base_uri": "https://localhost:8080/"
        },
        "id": "BkVjvxJpL9Xn",
        "outputId": "ecfe4af1-d60c-4051-a8d2-518528725505"
      },
      "source": [
        "grid.best_params_"
      ],
      "execution_count": null,
      "outputs": [
        {
          "output_type": "execute_result",
          "data": {
            "text/plain": [
              "{'bandwidth': 1.1233240329780276}"
            ]
          },
          "metadata": {},
          "execution_count": 22
        }
      ]
    }
  ]
}