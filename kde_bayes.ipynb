{
  "nbformat": 4,
  "nbformat_minor": 0,
  "metadata": {
    "colab": {
      "name": "kde_bayes.ipynb",
      "provenance": [],
      "authorship_tag": "ABX9TyOesmLgGRAxW1h6Fdojslsd",
      "include_colab_link": true
    },
    "kernelspec": {
      "name": "python3",
      "display_name": "Python 3"
    },
    "language_info": {
      "name": "python"
    }
  },
  "cells": [
    {
      "cell_type": "markdown",
      "metadata": {
        "id": "view-in-github",
        "colab_type": "text"
      },
      "source": [
        "<a href=\"https://colab.research.google.com/github/smallriver0316/python-datascience-study/blob/development/kde_bayes.ipynb\" target=\"_parent\"><img src=\"https://colab.research.google.com/assets/colab-badge.svg\" alt=\"Open In Colab\"/></a>"
      ]
    },
    {
      "cell_type": "code",
      "metadata": {
        "id": "fn8AP5Hk_va4"
      },
      "source": [
        "import numpy as np\n",
        "import matplotlib.pyplot as plt\n",
        "import seaborn as sns\n",
        "from sklearn.neighbors import KernelDensity\n",
        "from sklearn.base import BaseEstimator, ClassifierMixin\n",
        "\n",
        "sns.set()"
      ],
      "execution_count": 6,
      "outputs": []
    },
    {
      "cell_type": "code",
      "metadata": {
        "id": "TYjQ8UkFAOx2"
      },
      "source": [
        "# 単純ではないベイズ分類器\n",
        "class KDEClassifier(BaseEstimator, ClassifierMixin):\n",
        "  \"\"\"Bayesian generative classification based on KDE\n",
        "\n",
        "  Parameters\n",
        "  ---------\n",
        "  bandwodth: float\n",
        "    the kernel bandwidth within each class\n",
        "  kernel: str\n",
        "    the kernel name, passed to KernelDensity\n",
        "  \"\"\"\n",
        "  def __init__(self, bandwidth=1.0, kernel='gaussian'):\n",
        "    self.bandwidth = bandwidth\n",
        "    self.kernel = kernel\n",
        "\n",
        "  def fit(self, X, y):\n",
        "    self.classes_ = np.sort(np.unique(y))\n",
        "    training_sets = [X[y == yi] for yi in self.classes_]\n",
        "    self.models_ = [KernelDensity(bandwidth=self.bandwidth,\n",
        "                                  kernel=self.kernel).fit(Xi) for Xi in training_sets]\n",
        "    self.logpriors_ = [np.log(Xi.shape[0] / X.shape[0]) for Xi in training_sets]\n",
        "    return self\n",
        "\n",
        "  def predict_proba(self, X):\n",
        "    logprobs = np.array([model.score_samples(X) for model in self.models_]).T\n",
        "    result = np.exp(logprobs + self.logpriors_)\n",
        "    return result / result.sum(1, keepdims=True)\n",
        "\n",
        "  def predict(self, X):\n",
        "    return self.classes_[np.argmax(self.predict_proba(X), 1)]"
      ],
      "execution_count": 7,
      "outputs": []
    },
    {
      "cell_type": "code",
      "metadata": {
        "id": "FC9Qd4qODiiy"
      },
      "source": [
        "from sklearn.datasets import load_digits\n",
        "from sklearn.model_selection import GridSearchCV\n",
        "\n",
        "digits = load_digits()\n",
        "\n",
        "bandwidths = 10 ** np.linspace(0, 2, 100)\n",
        "grid = GridSearchCV(KDEClassifier(), {'bandwidth': bandwidths})\n",
        "grid.fit(digits.data, digits.target)\n",
        "\n",
        "scores = grid.cv_results_['mean_test_score'].tolist()"
      ],
      "execution_count": 10,
      "outputs": []
    },
    {
      "cell_type": "code",
      "metadata": {
        "colab": {
          "base_uri": "https://localhost:8080/",
          "height": 343
        },
        "id": "rOFK0qmJEr02",
        "outputId": "d6d418b8-8a77-4e24-f56b-87f447a397f5"
      },
      "source": [
        "plt.semilogx(bandwidths, scores)\n",
        "plt.xlabel('bandwidth')\n",
        "plt.ylabel('accuracy')\n",
        "plt.title('KDE Model Performance')\n",
        "\n",
        "print(grid.best_params_)\n",
        "print('accuracy = ', grid.best_score_)"
      ],
      "execution_count": 11,
      "outputs": [
        {
          "output_type": "stream",
          "name": "stdout",
          "text": [
            "{'bandwidth': 6.135907273413174}\n",
            "accuracy =  0.9677298050139276\n"
          ]
        },
        {
          "output_type": "display_data",
          "data": {
            "image/png": "[encoded data removed]",
            "text/plain": [
              "<Figure size 432x288 with 1 Axes>"
            ]
          },
          "metadata": {}
        }
      ]
    },
    {
      "cell_type": "code",
      "metadata": {
        "colab": {
          "base_uri": "https://localhost:8080/"
        },
        "id": "ltxwowDEFh2V",
        "outputId": "eae112cb-8dc5-4c2c-a17c-2a237f6287b6"
      },
      "source": [
        "from sklearn.naive_bayes import GaussianNB\n",
        "from sklearn.model_selection import cross_val_score\n",
        "\n",
        "cross_val_score(GaussianNB(), digits.data, digits.target).mean()"
      ],
      "execution_count": 13,
      "outputs": [
        {
          "output_type": "execute_result",
          "data": {
            "text/plain": [
              "0.8069281956050759"
            ]
          },
          "metadata": {},
          "execution_count": 13
        }
      ]
    },
    {
      "cell_type": "markdown",
      "metadata": {
        "id": "smB4i5UHF9o1"
      },
      "source": [
        "単純なベイズ分類器に比べて、高い認識性能を実現できた"
      ]
    }
  ]
}