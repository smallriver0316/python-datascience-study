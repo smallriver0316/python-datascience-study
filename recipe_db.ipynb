{
  "nbformat": 4,
  "nbformat_minor": 0,
  "metadata": {
    "colab": {
      "name": "recipe_db.ipynb",
      "provenance": [],
      "collapsed_sections": [],
      "authorship_tag": "ABX9TyMUDFre6gn2oDLjT4BIaE8G",
      "include_colab_link": true
    },
    "kernelspec": {
      "name": "python3",
      "display_name": "Python 3"
    },
    "language_info": {
      "name": "python"
    }
  },
  "cells": [
    {
      "cell_type": "markdown",
      "metadata": {
        "id": "view-in-github",
        "colab_type": "text"
      },
      "source": [
        "<a href=\"https://colab.research.google.com/github/smallriver0316/python-datascience-study/blob/development/recipe_db.ipynb\" target=\"_parent\"><img src=\"https://colab.research.google.com/assets/colab-badge.svg\" alt=\"Open In Colab\"/></a>"
      ]
    },
    {
      "cell_type": "code",
      "metadata": {
        "colab": {
          "base_uri": "https://localhost:8080/"
        },
        "id": "Eg6JjyFq3wnm",
        "outputId": "6a3822fd-0104-4191-fa6c-1dfbc7c97438"
      },
      "source": [
        "# refer to https://github.com/fictivekin/openrecipes\n",
        "!curl -O https://raw.githubusercontent.com/sameergarg/scala-elasticsearch/master/conf/recipeitems-latest.json.gz"
      ],
      "execution_count": null,
      "outputs": [
        {
          "output_type": "stream",
          "text": [
            "  % Total    % Received % Xferd  Average Speed   Time    Time     Time  Current\n",
            "                                 Dload  Upload   Total   Spent    Left  Speed\n",
            "100 29.3M  100 29.3M    0     0  28.2M      0  0:00:01  0:00:01 --:--:-- 28.1M\n"
          ],
          "name": "stdout"
        }
      ]
    },
    {
      "cell_type": "code",
      "metadata": {
        "colab": {
          "base_uri": "https://localhost:8080/"
        },
        "id": "Tce983hb9AWo",
        "outputId": "f17fbad8-78cb-4379-e8f9-ec9c3d4c6e1c"
      },
      "source": [
        "!gunzip recipeitems-latest.json.gz"
      ],
      "execution_count": null,
      "outputs": [
        {
          "output_type": "stream",
          "text": [
            "gzip: recipeitems-latest.json already exists; do you wish to overwrite (y or n)? y\n"
          ],
          "name": "stdout"
        }
      ]
    },
    {
      "cell_type": "code",
      "metadata": {
        "colab": {
          "base_uri": "https://localhost:8080/"
        },
        "id": "nK4Lontm4ofg",
        "outputId": "0df408a5-8886-4b7d-b9f3-a0bc174bce88"
      },
      "source": [
        "import pandas as pd\n",
        "import numpy as np\n",
        "from io import StringIO\n",
        "!pip install fsspec"
      ],
      "execution_count": null,
      "outputs": [
        {
          "output_type": "stream",
          "text": [
            "Collecting fsspec\n",
            "  Downloading fsspec-2021.7.0-py3-none-any.whl (118 kB)\n",
            "\u001b[?25l\r\u001b[K     |██▊                             | 10 kB 20.8 MB/s eta 0:00:01\r\u001b[K     |█████▌                          | 20 kB 27.0 MB/s eta 0:00:01\r\u001b[K     |████████▎                       | 30 kB 11.8 MB/s eta 0:00:01\r\u001b[K     |███████████                     | 40 kB 9.5 MB/s eta 0:00:01\r\u001b[K     |█████████████▉                  | 51 kB 5.3 MB/s eta 0:00:01\r\u001b[K     |████████████████▋               | 61 kB 5.9 MB/s eta 0:00:01\r\u001b[K     |███████████████████▍            | 71 kB 5.7 MB/s eta 0:00:01\r\u001b[K     |██████████████████████▏         | 81 kB 6.4 MB/s eta 0:00:01\r\u001b[K     |█████████████████████████       | 92 kB 6.4 MB/s eta 0:00:01\r\u001b[K     |███████████████████████████▊    | 102 kB 5.2 MB/s eta 0:00:01\r\u001b[K     |██████████████████████████████▌ | 112 kB 5.2 MB/s eta 0:00:01\r\u001b[K     |████████████████████████████████| 118 kB 5.2 MB/s \n",
            "\u001b[?25hInstalling collected packages: fsspec\n",
            "Successfully installed fsspec-2021.7.0\n"
          ],
          "name": "stdout"
        }
      ]
    },
    {
      "cell_type": "code",
      "metadata": {
        "id": "ZPQcvudJ6m1Q"
      },
      "source": [
        "with open('recipeitems-latest.json', 'r', encoding='utf-8') as f:\n",
        "  data = (line.strip() for line in f)\n",
        "  data_json = \"[{0}]\".format(','.join(data))\n",
        "recipes = pd.read_json(StringIO(data_json))"
      ],
      "execution_count": null,
      "outputs": []
    },
    {
      "cell_type": "code",
      "metadata": {
        "colab": {
          "base_uri": "https://localhost:8080/"
        },
        "id": "E5LynrLd6fjV",
        "outputId": "70276ddc-0ff2-4f84-9ef1-44f6bdc49fc0"
      },
      "source": [
        "recipes.shape"
      ],
      "execution_count": null,
      "outputs": [
        {
          "output_type": "execute_result",
          "data": {
            "text/plain": [
              "(173278, 17)"
            ]
          },
          "metadata": {
            "tags": []
          },
          "execution_count": 22
        }
      ]
    },
    {
      "cell_type": "code",
      "metadata": {
        "colab": {
          "base_uri": "https://localhost:8080/"
        },
        "id": "TcBG5hHC_lA0",
        "outputId": "cdccb842-45e1-48be-c3d6-154c475cc337"
      },
      "source": [
        "# 1行目を抜き出して確認\n",
        "recipes.iloc[0]"
      ],
      "execution_count": null,
      "outputs": [
        {
          "output_type": "execute_result",
          "data": {
            "text/plain": [
              "_id                                {'$oid': '5160756b96cc62079cc2db15'}\n",
              "name                                    Drop Biscuits and Sausage Gravy\n",
              "ingredients           Biscuits\\n3 cups All-purpose Flour\\n2 Tablespo...\n",
              "url                   http://thepioneerwoman.com/cooking/2013/03/dro...\n",
              "image                 http://static.thepioneerwoman.com/cooking/file...\n",
              "ts                                             {'$date': 1365276011104}\n",
              "cookTime                                                          PT30M\n",
              "source                                                  thepioneerwoman\n",
              "recipeYield                                                          12\n",
              "datePublished                                                2013-03-11\n",
              "prepTime                                                          PT10M\n",
              "description           Late Saturday afternoon, after Marlboro Man ha...\n",
              "totalTime                                                           NaN\n",
              "creator                                                             NaN\n",
              "recipeCategory                                                      NaN\n",
              "dateModified                                                        NaN\n",
              "recipeInstructions                                                  NaN\n",
              "Name: 0, dtype: object"
            ]
          },
          "metadata": {
            "tags": []
          },
          "execution_count": 24
        }
      ]
    },
    {
      "cell_type": "code",
      "metadata": {
        "colab": {
          "base_uri": "https://localhost:8080/"
        },
        "id": "A9Bt0hXkAnfl",
        "outputId": "b400cd4a-a39e-4ccd-b97e-ee5afcaffd84"
      },
      "source": [
        "# ingredientsが煩雑な文字列なので、概要を確認\n",
        "recipes.ingredients.str.len().describe()"
      ],
      "execution_count": null,
      "outputs": [
        {
          "output_type": "execute_result",
          "data": {
            "text/plain": [
              "count    173278.000000\n",
              "mean        244.617926\n",
              "std         146.705285\n",
              "min           0.000000\n",
              "25%         147.000000\n",
              "50%         221.000000\n",
              "75%         314.000000\n",
              "max        9067.000000\n",
              "Name: ingredients, dtype: float64"
            ]
          },
          "metadata": {
            "tags": []
          },
          "execution_count": 25
        }
      ]
    },
    {
      "cell_type": "code",
      "metadata": {
        "colab": {
          "base_uri": "https://localhost:8080/",
          "height": 35
        },
        "id": "eLv3bElJA-3q",
        "outputId": "f5faa35c-3ace-4613-d5b7-46045b3193cd"
      },
      "source": [
        "# ingredientsの中で最長のものを確認\n",
        "recipes.name[np.argmax(recipes.ingredients.str.len())]"
      ],
      "execution_count": null,
      "outputs": [
        {
          "output_type": "execute_result",
          "data": {
            "application/vnd.google.colaboratory.intrinsic+json": {
              "type": "string"
            },
            "text/plain": [
              "'Carrot Pineapple Spice &amp; Brownie Layer Cake with Whipped Cream &amp; Cream Cheese Frosting and Marzipan Carrots'"
            ]
          },
          "metadata": {
            "tags": []
          },
          "execution_count": 27
        }
      ]
    },
    {
      "cell_type": "code",
      "metadata": {
        "colab": {
          "base_uri": "https://localhost:8080/"
        },
        "id": "Gd0NTrArBRcQ",
        "outputId": "e2ade82a-bff7-446f-e6fe-f4df6f9b644a"
      },
      "source": [
        "# 正規表現の利用例\n",
        "# 朝食用のレシピをカウント\n",
        "recipes.description.str.contains('[Bb]reakfast').sum()"
      ],
      "execution_count": null,
      "outputs": [
        {
          "output_type": "execute_result",
          "data": {
            "text/plain": [
              "3524"
            ]
          },
          "metadata": {
            "tags": []
          },
          "execution_count": 28
        }
      ]
    },
    {
      "cell_type": "code",
      "metadata": {
        "colab": {
          "base_uri": "https://localhost:8080/"
        },
        "id": "F5noLW-YB3fz",
        "outputId": "a02ef090-970f-47de-8ce2-7629fc5cb64a"
      },
      "source": [
        "# 材料にシナモンを使用しているレシピをカウント\n",
        "recipes.ingredients.str.contains('[Cc]innamon').sum()"
      ],
      "execution_count": null,
      "outputs": [
        {
          "output_type": "execute_result",
          "data": {
            "text/plain": [
              "10526"
            ]
          },
          "metadata": {
            "tags": []
          },
          "execution_count": 29
        }
      ]
    },
    {
      "cell_type": "markdown",
      "metadata": {
        "id": "hOTHnH-IC1X8"
      },
      "source": [
        "### レシピ推奨システム\n",
        "#### 材料のリストを与えるとレシピを与えると、それらすべての材料を使用するレシピを見つけるシステムを作る\n",
        "#### スパイスからのレシピの探索を試みる"
      ]
    },
    {
      "cell_type": "code",
      "metadata": {
        "id": "0xjWbQneCEj6"
      },
      "source": [
        "spice_list = ['salt', 'pepper', 'oregano', 'sage', 'parsley', 'rosemary', 'tarragon', 'thyme', 'paprika', 'cumin']"
      ],
      "execution_count": null,
      "outputs": []
    },
    {
      "cell_type": "code",
      "metadata": {
        "colab": {
          "base_uri": "https://localhost:8080/"
        },
        "id": "2TDmHx_uDe1F",
        "outputId": "0104cd2c-24a8-44df-aa26-255235c58b52"
      },
      "source": [
        "# re.IGNORECASEは大文字、小文字を区別しないマッチングを行う\n",
        "import re\n",
        "is_spice = dict((spice, recipes.ingredients.str.contains(spice, re.IGNORECASE)) for spice in spice_list)\n",
        "# 中身を確認\n",
        "dict(list(is_spice.items())[:10])"
      ],
      "execution_count": null,
      "outputs": [
        {
          "output_type": "execute_result",
          "data": {
            "text/plain": [
              "{'cumin': 0         False\n",
              " 1         False\n",
              " 2          True\n",
              " 3         False\n",
              " 4         False\n",
              "           ...  \n",
              " 173273    False\n",
              " 173274    False\n",
              " 173275     True\n",
              " 173276    False\n",
              " 173277    False\n",
              " Name: ingredients, Length: 173278, dtype: bool, 'oregano': 0         False\n",
              " 1         False\n",
              " 2         False\n",
              " 3         False\n",
              " 4         False\n",
              "           ...  \n",
              " 173273    False\n",
              " 173274    False\n",
              " 173275    False\n",
              " 173276    False\n",
              " 173277    False\n",
              " Name: ingredients, Length: 173278, dtype: bool, 'paprika': 0         False\n",
              " 1         False\n",
              " 2         False\n",
              " 3         False\n",
              " 4         False\n",
              "           ...  \n",
              " 173273    False\n",
              " 173274    False\n",
              " 173275     True\n",
              " 173276    False\n",
              " 173277    False\n",
              " Name: ingredients, Length: 173278, dtype: bool, 'parsley': 0         False\n",
              " 1         False\n",
              " 2         False\n",
              " 3         False\n",
              " 4         False\n",
              "           ...  \n",
              " 173273    False\n",
              " 173274    False\n",
              " 173275    False\n",
              " 173276    False\n",
              " 173277    False\n",
              " Name: ingredients, Length: 173278, dtype: bool, 'pepper': 0         False\n",
              " 1         False\n",
              " 2          True\n",
              " 3         False\n",
              " 4         False\n",
              "           ...  \n",
              " 173273    False\n",
              " 173274    False\n",
              " 173275     True\n",
              " 173276     True\n",
              " 173277    False\n",
              " Name: ingredients, Length: 173278, dtype: bool, 'rosemary': 0         False\n",
              " 1         False\n",
              " 2         False\n",
              " 3         False\n",
              " 4         False\n",
              "           ...  \n",
              " 173273    False\n",
              " 173274    False\n",
              " 173275    False\n",
              " 173276    False\n",
              " 173277    False\n",
              " Name: ingredients, Length: 173278, dtype: bool, 'sage': 0          True\n",
              " 1         False\n",
              " 2         False\n",
              " 3         False\n",
              " 4         False\n",
              "           ...  \n",
              " 173273    False\n",
              " 173274    False\n",
              " 173275    False\n",
              " 173276    False\n",
              " 173277    False\n",
              " Name: ingredients, Length: 173278, dtype: bool, 'salt': 0         False\n",
              " 1         False\n",
              " 2          True\n",
              " 3         False\n",
              " 4         False\n",
              "           ...  \n",
              " 173273    False\n",
              " 173274    False\n",
              " 173275     True\n",
              " 173276     True\n",
              " 173277     True\n",
              " Name: ingredients, Length: 173278, dtype: bool, 'tarragon': 0         False\n",
              " 1         False\n",
              " 2         False\n",
              " 3         False\n",
              " 4         False\n",
              "           ...  \n",
              " 173273    False\n",
              " 173274    False\n",
              " 173275    False\n",
              " 173276    False\n",
              " 173277    False\n",
              " Name: ingredients, Length: 173278, dtype: bool, 'thyme': 0         False\n",
              " 1         False\n",
              " 2         False\n",
              " 3         False\n",
              " 4         False\n",
              "           ...  \n",
              " 173273    False\n",
              " 173274    False\n",
              " 173275    False\n",
              " 173276    False\n",
              " 173277    False\n",
              " Name: ingredients, Length: 173278, dtype: bool}"
            ]
          },
          "metadata": {
            "tags": []
          },
          "execution_count": 32
        }
      ]
    },
    {
      "cell_type": "code",
      "metadata": {
        "colab": {
          "base_uri": "https://localhost:8080/",
          "height": 204
        },
        "id": "cHne8XOAE0sx",
        "outputId": "5f896fb8-ee00-4c71-cade-b7df1d9d3114"
      },
      "source": [
        "spice_df = pd.DataFrame(is_spice)\n",
        "spice_df.head()"
      ],
      "execution_count": null,
      "outputs": [
        {
          "output_type": "execute_result",
          "data": {
            "text/html": [
              "<div>\n",
              "<style scoped>\n",
              "    .dataframe tbody tr th:only-of-type {\n",
              "        vertical-align: middle;\n",
              "    }\n",
              "\n",
              "    .dataframe tbody tr th {\n",
              "        vertical-align: top;\n",
              "    }\n",
              "\n",
              "    .dataframe thead th {\n",
              "        text-align: right;\n",
              "    }\n",
              "</style>\n",
              "<table border=\"1\" class=\"dataframe\">\n",
              "  <thead>\n",
              "    <tr style=\"text-align: right;\">\n",
              "      <th></th>\n",
              "      <th>salt</th>\n",
              "      <th>pepper</th>\n",
              "      <th>oregano</th>\n",
              "      <th>sage</th>\n",
              "      <th>parsley</th>\n",
              "      <th>rosemary</th>\n",
              "      <th>tarragon</th>\n",
              "      <th>thyme</th>\n",
              "      <th>paprika</th>\n",
              "      <th>cumin</th>\n",
              "    </tr>\n",
              "  </thead>\n",
              "  <tbody>\n",
              "    <tr>\n",
              "      <th>0</th>\n",
              "      <td>False</td>\n",
              "      <td>False</td>\n",
              "      <td>False</td>\n",
              "      <td>True</td>\n",
              "      <td>False</td>\n",
              "      <td>False</td>\n",
              "      <td>False</td>\n",
              "      <td>False</td>\n",
              "      <td>False</td>\n",
              "      <td>False</td>\n",
              "    </tr>\n",
              "    <tr>\n",
              "      <th>1</th>\n",
              "      <td>False</td>\n",
              "      <td>False</td>\n",
              "      <td>False</td>\n",
              "      <td>False</td>\n",
              "      <td>False</td>\n",
              "      <td>False</td>\n",
              "      <td>False</td>\n",
              "      <td>False</td>\n",
              "      <td>False</td>\n",
              "      <td>False</td>\n",
              "    </tr>\n",
              "    <tr>\n",
              "      <th>2</th>\n",
              "      <td>True</td>\n",
              "      <td>True</td>\n",
              "      <td>False</td>\n",
              "      <td>False</td>\n",
              "      <td>False</td>\n",
              "      <td>False</td>\n",
              "      <td>False</td>\n",
              "      <td>False</td>\n",
              "      <td>False</td>\n",
              "      <td>True</td>\n",
              "    </tr>\n",
              "    <tr>\n",
              "      <th>3</th>\n",
              "      <td>False</td>\n",
              "      <td>False</td>\n",
              "      <td>False</td>\n",
              "      <td>False</td>\n",
              "      <td>False</td>\n",
              "      <td>False</td>\n",
              "      <td>False</td>\n",
              "      <td>False</td>\n",
              "      <td>False</td>\n",
              "      <td>False</td>\n",
              "    </tr>\n",
              "    <tr>\n",
              "      <th>4</th>\n",
              "      <td>False</td>\n",
              "      <td>False</td>\n",
              "      <td>False</td>\n",
              "      <td>False</td>\n",
              "      <td>False</td>\n",
              "      <td>False</td>\n",
              "      <td>False</td>\n",
              "      <td>False</td>\n",
              "      <td>False</td>\n",
              "      <td>False</td>\n",
              "    </tr>\n",
              "  </tbody>\n",
              "</table>\n",
              "</div>"
            ],
            "text/plain": [
              "    salt  pepper  oregano   sage  ...  tarragon  thyme  paprika  cumin\n",
              "0  False   False    False   True  ...     False  False    False  False\n",
              "1  False   False    False  False  ...     False  False    False  False\n",
              "2   True    True    False  False  ...     False  False    False   True\n",
              "3  False   False    False  False  ...     False  False    False  False\n",
              "4  False   False    False  False  ...     False  False    False  False\n",
              "\n",
              "[5 rows x 10 columns]"
            ]
          },
          "metadata": {
            "tags": []
          },
          "execution_count": 33
        }
      ]
    },
    {
      "cell_type": "code",
      "metadata": {
        "colab": {
          "base_uri": "https://localhost:8080/"
        },
        "id": "mOcjb3ojGMMG",
        "outputId": "c1be729c-ef0e-4f6a-d9b8-75618bdd8afe"
      },
      "source": [
        "selection = spice_df.query('parsley & paprika & tarragon')\n",
        "len(selection)"
      ],
      "execution_count": null,
      "outputs": [
        {
          "output_type": "execute_result",
          "data": {
            "text/plain": [
              "10"
            ]
          },
          "metadata": {
            "tags": []
          },
          "execution_count": 34
        }
      ]
    },
    {
      "cell_type": "code",
      "metadata": {
        "colab": {
          "base_uri": "https://localhost:8080/"
        },
        "id": "fF1OmJVzGmbL",
        "outputId": "c7b7f0e1-c4c5-41a1-9a5c-68c328e0b7d3"
      },
      "source": [
        "recipes.name[selection.index]"
      ],
      "execution_count": null,
      "outputs": [
        {
          "output_type": "execute_result",
          "data": {
            "text/plain": [
              "2069      All cremat with a Little Gem, dandelion and wa...\n",
              "74964                         Lobster with Thermidor butter\n",
              "93768      Burton's Southern Fried Chicken with White Gravy\n",
              "113926                     Mijo's Slow Cooker Shredded Beef\n",
              "137686                     Asparagus Soup with Poached Eggs\n",
              "140530                                 Fried Oyster Po’boys\n",
              "158475                Lamb shank tagine with herb tabbouleh\n",
              "158486                 Southern fried chicken in buttermilk\n",
              "163175            Fried Chicken Sliders with Pickles + Slaw\n",
              "165243                        Bar Tartine Cauliflower Salad\n",
              "Name: name, dtype: object"
            ]
          },
          "metadata": {
            "tags": []
          },
          "execution_count": 35
        }
      ]
    }
  ]
}